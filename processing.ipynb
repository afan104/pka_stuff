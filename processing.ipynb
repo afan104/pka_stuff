{
 "cells": [
  {
   "cell_type": "code",
   "execution_count": 3,
   "metadata": {},
   "outputs": [],
   "source": [
    "### We want to see if it is downstream to any of the TORC, GTR, Pib2 proteins\n",
    "### T tests across the different conditions will show significance of connections.\n",
    "### Output: csv file with original data and a new sheet with p-values and adjusted p-values\n",
    "\n",
    "import pandas as pd\n",
    "import os\n",
    "from scipy.stats import ttest_ind\n",
    "import statsmodels.stats.multitest as multi\n",
    "import numpy as np"
   ]
  },
  {
   "cell_type": "code",
   "execution_count": 4,
   "metadata": {},
   "outputs": [
    {
     "name": "stderr",
     "output_type": "stream",
     "text": [
      "c:\\Users\\amyfa\\vstest\\.venv\\lib\\site-packages\\scipy\\stats\\_axis_nan_policy.py:523: RuntimeWarning: Precision loss occurred in moment calculation due to catastrophic cancellation. This occurs when the data are nearly identical. Results may be unreliable.\n",
      "  res = hypotest_fun_out(*samples, **kwds)\n",
      "c:\\Users\\amyfa\\vstest\\.venv\\lib\\site-packages\\scipy\\stats\\_axis_nan_policy.py:523: RuntimeWarning: Precision loss occurred in moment calculation due to catastrophic cancellation. This occurs when the data are nearly identical. Results may be unreliable.\n",
      "  res = hypotest_fun_out(*samples, **kwds)\n",
      "c:\\Users\\amyfa\\vstest\\.venv\\lib\\site-packages\\scipy\\stats\\_axis_nan_policy.py:523: RuntimeWarning: Precision loss occurred in moment calculation due to catastrophic cancellation. This occurs when the data are nearly identical. Results may be unreliable.\n",
      "  res = hypotest_fun_out(*samples, **kwds)\n",
      "c:\\Users\\amyfa\\vstest\\.venv\\lib\\site-packages\\scipy\\stats\\_axis_nan_policy.py:523: RuntimeWarning: Precision loss occurred in moment calculation due to catastrophic cancellation. This occurs when the data are nearly identical. Results may be unreliable.\n",
      "  res = hypotest_fun_out(*samples, **kwds)\n",
      "c:\\Users\\amyfa\\vstest\\.venv\\lib\\site-packages\\scipy\\stats\\_axis_nan_policy.py:523: RuntimeWarning: Precision loss occurred in moment calculation due to catastrophic cancellation. This occurs when the data are nearly identical. Results may be unreliable.\n",
      "  res = hypotest_fun_out(*samples, **kwds)\n",
      "c:\\Users\\amyfa\\vstest\\.venv\\lib\\site-packages\\scipy\\stats\\_axis_nan_policy.py:523: RuntimeWarning: Precision loss occurred in moment calculation due to catastrophic cancellation. This occurs when the data are nearly identical. Results may be unreliable.\n",
      "  res = hypotest_fun_out(*samples, **kwds)\n",
      "c:\\Users\\amyfa\\vstest\\.venv\\lib\\site-packages\\scipy\\stats\\_axis_nan_policy.py:523: RuntimeWarning: Precision loss occurred in moment calculation due to catastrophic cancellation. This occurs when the data are nearly identical. Results may be unreliable.\n",
      "  res = hypotest_fun_out(*samples, **kwds)\n",
      "c:\\Users\\amyfa\\vstest\\.venv\\lib\\site-packages\\scipy\\stats\\_axis_nan_policy.py:523: RuntimeWarning: Precision loss occurred in moment calculation due to catastrophic cancellation. This occurs when the data are nearly identical. Results may be unreliable.\n",
      "  res = hypotest_fun_out(*samples, **kwds)\n",
      "c:\\Users\\amyfa\\vstest\\.venv\\lib\\site-packages\\scipy\\stats\\_axis_nan_policy.py:523: RuntimeWarning: Precision loss occurred in moment calculation due to catastrophic cancellation. This occurs when the data are nearly identical. Results may be unreliable.\n",
      "  res = hypotest_fun_out(*samples, **kwds)\n",
      "c:\\Users\\amyfa\\vstest\\.venv\\lib\\site-packages\\scipy\\stats\\_axis_nan_policy.py:523: RuntimeWarning: Precision loss occurred in moment calculation due to catastrophic cancellation. This occurs when the data are nearly identical. Results may be unreliable.\n",
      "  res = hypotest_fun_out(*samples, **kwds)\n",
      "c:\\Users\\amyfa\\vstest\\.venv\\lib\\site-packages\\scipy\\stats\\_axis_nan_policy.py:523: RuntimeWarning: Precision loss occurred in moment calculation due to catastrophic cancellation. This occurs when the data are nearly identical. Results may be unreliable.\n",
      "  res = hypotest_fun_out(*samples, **kwds)\n",
      "c:\\Users\\amyfa\\vstest\\.venv\\lib\\site-packages\\scipy\\stats\\_axis_nan_policy.py:523: RuntimeWarning: Precision loss occurred in moment calculation due to catastrophic cancellation. This occurs when the data are nearly identical. Results may be unreliable.\n",
      "  res = hypotest_fun_out(*samples, **kwds)\n",
      "c:\\Users\\amyfa\\vstest\\.venv\\lib\\site-packages\\scipy\\stats\\_axis_nan_policy.py:523: RuntimeWarning: Precision loss occurred in moment calculation due to catastrophic cancellation. This occurs when the data are nearly identical. Results may be unreliable.\n",
      "  res = hypotest_fun_out(*samples, **kwds)\n",
      "c:\\Users\\amyfa\\vstest\\.venv\\lib\\site-packages\\scipy\\stats\\_axis_nan_policy.py:523: RuntimeWarning: Precision loss occurred in moment calculation due to catastrophic cancellation. This occurs when the data are nearly identical. Results may be unreliable.\n",
      "  res = hypotest_fun_out(*samples, **kwds)\n",
      "c:\\Users\\amyfa\\vstest\\.venv\\lib\\site-packages\\scipy\\stats\\_axis_nan_policy.py:523: RuntimeWarning: Precision loss occurred in moment calculation due to catastrophic cancellation. This occurs when the data are nearly identical. Results may be unreliable.\n",
      "  res = hypotest_fun_out(*samples, **kwds)\n",
      "c:\\Users\\amyfa\\vstest\\.venv\\lib\\site-packages\\scipy\\stats\\_axis_nan_policy.py:523: RuntimeWarning: Precision loss occurred in moment calculation due to catastrophic cancellation. This occurs when the data are nearly identical. Results may be unreliable.\n",
      "  res = hypotest_fun_out(*samples, **kwds)\n",
      "c:\\Users\\amyfa\\vstest\\.venv\\lib\\site-packages\\scipy\\stats\\_axis_nan_policy.py:523: RuntimeWarning: Precision loss occurred in moment calculation due to catastrophic cancellation. This occurs when the data are nearly identical. Results may be unreliable.\n",
      "  res = hypotest_fun_out(*samples, **kwds)\n",
      "c:\\Users\\amyfa\\vstest\\.venv\\lib\\site-packages\\scipy\\stats\\_axis_nan_policy.py:523: RuntimeWarning: Precision loss occurred in moment calculation due to catastrophic cancellation. This occurs when the data are nearly identical. Results may be unreliable.\n",
      "  res = hypotest_fun_out(*samples, **kwds)\n",
      "c:\\Users\\amyfa\\vstest\\.venv\\lib\\site-packages\\scipy\\stats\\_axis_nan_policy.py:523: RuntimeWarning: Precision loss occurred in moment calculation due to catastrophic cancellation. This occurs when the data are nearly identical. Results may be unreliable.\n",
      "  res = hypotest_fun_out(*samples, **kwds)\n"
     ]
    },
    {
     "data": {
      "text/plain": [
       "0         [nan, 0.38033980838065384, 0.39100221895576953]\n",
       "1       [0.003569213615907592, 0.08928284138200536, 0....\n",
       "2       [0.007113112276283214, 0.35547447278235045, 0....\n",
       "3       [0.003229997292927913, 0.4375272936547459, 0.8...\n",
       "4       [0.010235693882455316, 0.2468912789787353, 0.5...\n",
       "                              ...                        \n",
       "7802    [0.9979544571304928, 0.16902918042857576, 0.00...\n",
       "7803    [0.9993087004043089, 0.9821232544090529, 0.659...\n",
       "7804    [0.9997529325106471, 0.225384522393724, 0.8757...\n",
       "7805    [0.999958468036912, 0.9555001665539399, 0.9445...\n",
       "7806    [0.9999215317049629, 0.11278348602623375, 0.16...\n",
       "Name: p-value, Length: 7807, dtype: object"
      ]
     },
     "execution_count": 4,
     "metadata": {},
     "output_type": "execute_result"
    }
   ],
   "source": [
    "# open and convert the file to a Dataframe\n",
    "filename: str = 'C:/Users/amyfa/vstest/phosph_data_caplab/230403gtroub2expt_working.csv' # change this to the file path of original data\n",
    "full_df = pd.read_csv(filename)\n",
    "\n",
    "# Function for Welch's T test\n",
    "def perform_welchs_ttest(rowdata: pd.Series, threshold: float = 0.05):\n",
    "    '''\n",
    "    Uses Welch's T test to determine protein downstream connections to Torc, Pib2, Gtr1/2.\n",
    "    Returns connections and p-values.\n",
    "\n",
    "    Args: \n",
    "    rowdata (pd.DataFrame): contains 4 treatment conditions in quadruplicate\n",
    "        1. WT in normal SD media\n",
    "        2. WT in Rapamycin treatment (turns off Torc)\n",
    "        3. Pib2KO in SD media\n",
    "        4. GTRKO in SD media\n",
    "    threshold (float): Threshold for the t-test. Default is 0.05.\n",
    "\n",
    "    Returns - \n",
    "    A 1-D list of pvalues with length 3. [torc pval, pib2 pval, gtr pval] \n",
    "    '''\n",
    "    conditions  = [rowdata.loc[\"WT_SD_1\":\"GTRKO_SD_4\"].iloc[i:i+4].astype(float) for i in range(0, 16, 4)]\n",
    "    pvalues = [float(ttest_ind(conditions[0], conditions[i], equal_var=False).pvalue) for i in range(1, len(conditions))]\n",
    "    return pvalues\n",
    "\n",
    "\n",
    "# test on just one row\n",
    "# one_row: pd.Series = full_df[127:128].iloc[0]\n",
    "# perform_welchs_ttest(one_row, threshold = 0.05)\n",
    "\n",
    "# Apply to DataFrame\n",
    "full_df[\"p-value\"] = full_df.apply(perform_welchs_ttest, threshold = 1, axis = 1)\n",
    "full_df[\"p-value\"]"
   ]
  },
  {
   "cell_type": "code",
   "execution_count": 5,
   "metadata": {},
   "outputs": [],
   "source": [
    "# collapse into 1D list\n",
    "collapsed_pvals = [item in sublist for sublist in full_df[\"p-value\"] for item in sublist]\n",
    "\n",
    "# Adjust p-values\n",
    "adjusted_pvals = multi.multipletests(pvals = collapsed_pvals, alpha = 0.05, method = \"fdr_bh\")"
   ]
  },
  {
   "cell_type": "code",
   "execution_count": 6,
   "metadata": {},
   "outputs": [
    {
     "name": "stdout",
     "output_type": "stream",
     "text": [
      "[nan, 0.003569213615907592, 0.007113112276283214, 0.003229997292927913, 0.010235693882455316]\n",
      "(nan, 0.003569213615907592, 0.007113112276283214, 0.003229997292927913, 0.010235693882455316)\n",
      "\n",
      "\n",
      "[0.38033980838065384, 0.08928284138200536, 0.35547447278235045, 0.4375272936547459, 0.2468912789787353]\n",
      "(0.38033980838065384, 0.08928284138200536, 0.35547447278235045, 0.4375272936547459, 0.2468912789787353)\n",
      "\n",
      "\n",
      "[0.39100221895576953, 0.3191296452833939, 0.8614726830808649, 0.8784051254484133, 0.502684910634774]\n",
      "(0.39100221895576953, 0.3191296452833939, 0.8614726830808649, 0.8784051254484133, 0.502684910634774)\n",
      "\n",
      "\n"
     ]
    },
    {
     "data": {
      "text/plain": [
       "(array([       nan, 0.11560698, 0.14237168, ..., 0.99995847, 0.99995847,\n",
       "        0.99995847]),\n",
       " array([0.96509927, 0.94165667, 0.96509927, ..., 0.9637096 , 0.99488884,\n",
       "        0.95300272]),\n",
       " array([0.96509927, 0.94165667, 0.96509927, ..., 0.9637096 , 0.99488884,\n",
       "        0.95300272]))"
      ]
     },
     "execution_count": 6,
     "metadata": {},
     "output_type": "execute_result"
    }
   ],
   "source": [
    "# Separate into three different tests\n",
    "torc_pvals, pib2_pvals, gtr_pvals = list(zip(*full_df[\"p-value\"]))\n",
    "\n",
    "# Check properly unpacked\n",
    "for i in range(0,3):\n",
    "    print([pvals[i] for pvals in full_df[\"p-value\"][0:5]])\n",
    "    print(list(zip(*full_df[\"p-value\"]))[i][0:5])\n",
    "    print(\"\\n\")\n",
    "\n",
    "# Adjust p-values\n",
    "\n",
    "torc_adj = multi.multipletests(pvals = torc_pvals[1:], alpha = .05, method = \"fdr_bh\")[1] # remove the nan value\n",
    "torc_adj = np.insert(torc_adj, 0, float('nan')) # and put it back in as nan\n",
    "pib2_adj = multi.multipletests(pvals = pib2_pvals, alpha = .05, method = \"fdr_bh\")[1]\n",
    "gtr_adj = multi.multipletests(pvals = pib2_pvals, alpha = 0.05, method = \"fdr_bh\")[1]\n",
    "torc_adj, pib2_adj, gtr_adj"
   ]
  },
  {
   "cell_type": "code",
   "execution_count": 19,
   "metadata": {},
   "outputs": [],
   "source": [
    "# Insert adjusted into dataframe\n",
    "full_df[\"torc adj. pval\"] = torc_adj\n",
    "full_df[\"pib2 adj. pval\"] = pib2_adj\n",
    "full_df[\"gtr adj. pval\"] = gtr_adj\n",
    "\n",
    "# indicate significance with specific threshold\n",
    "def determine_significance(rowdata: pd.Series, threshold = 0.05):\n",
    "    is_sig = [pval < threshold for pval in rowdata.loc['torc adj. pval': 'gtr adj. pval']]\n",
    "    return None if True not in is_sig else \"significant\"\n",
    "\n",
    "# Testing on just one row\n",
    "# one_row: pd.Series = full_df[5883:5884].iloc[0]\n",
    "# print(one_row)\n",
    "# print(determine_significance(one_row))\n",
    "\n",
    "\n",
    "full_df[\"significance\"] = full_df.apply(determine_significance, axis = 1)\n",
    "full_df[\"significance\"][5883]\n",
    "\n",
    "# Create output csv\n",
    "columns = list(full_df.columns[1:4]) + [\"p-value\", \"torc adj. pval\", \"pib2 adj. pval\", \"gtr adj. pval\", \"significance\"]\n",
    "full_df.to_csv(\"C:/Users/amyfa/vstest/phosph_data_caplab/output.csv\", columns = columns) # output location"
   ]
  }
 ],
 "metadata": {
  "kernelspec": {
   "display_name": ".venv",
   "language": "python",
   "name": "python3"
  },
  "language_info": {
   "codemirror_mode": {
    "name": "ipython",
    "version": 3
   },
   "file_extension": ".py",
   "mimetype": "text/x-python",
   "name": "python",
   "nbconvert_exporter": "python",
   "pygments_lexer": "ipython3",
   "version": "3.10.11"
  },
  "orig_nbformat": 4
 },
 "nbformat": 4,
 "nbformat_minor": 2
}
