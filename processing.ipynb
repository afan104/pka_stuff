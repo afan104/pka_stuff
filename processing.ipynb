{
 "cells": [
  {
   "cell_type": "code",
   "execution_count": 86,
   "metadata": {},
   "outputs": [],
   "source": [
    "### We want to find downstream substrates of TORC, GTR, Pib2 proteins.\n",
    "### T tests across the different conditions will show significant connections.\n",
    "### We approximate the \"null distribution\" by randomly scrambling the data.\n",
    "### The FDR obtained from the scrambled data is used to set the corrected threshold.\n",
    "\n",
    "import pandas as pd\n",
    "import os\n",
    "from scipy.stats import ttest_ind\n",
    "import statsmodels.stats.multitest as multi\n",
    "import numpy as np\n",
    "\n",
    "# Welch's T test\n",
    "def perform_welchs_ttest(rowdata: pd.Series, threshold: float = 0.05):\n",
    "    '''\n",
    "    Args: \n",
    "    rowdata: 4 treatments in quadruplicate (Treatments: WT, Torc off, Pib2 off, GTR off)\n",
    "    threshold: for determining T-test significance\n",
    "    \n",
    "    Returns a tuple: (list of p-values, True if any p-value < threshold, False otherwise)\n",
    "    e.g. ( [.01, 0.82, 0.765])\n",
    "    '''\n",
    "    # Reshape the rowdata into a 4x4 matrix\n",
    "    conditions  = [rowdata.iloc[i:i+4].astype(float) \n",
    "                   for i in range(0, 16, 4)]\n",
    "    # t test between WT condition and 3 treatments: pvalues = [ pv1 , pv2 , pv3 ]\n",
    "    pvalues = [float(ttest_ind(conditions[0], conditions[i], equal_var=False).pvalue) \n",
    "               for i in range(1, len(conditions))]\n",
    "    # Check if any p-value is less than the threshold\n",
    "    significant = any(p < threshold for p in pvalues)\n",
    "    \n",
    "    return pvalues, str(significant)\n",
    "\n",
    "# Scrambliung dataframe\n",
    "def scramble(df: pd.DataFrame , seed: int):\n",
    "    '''\n",
    "    Returns a scrambled dataframe.\n",
    "    '''\n",
    "    np.random.seed(seed)\n",
    "\n",
    "    # flatten into 1D list\n",
    "    flat_list  = df.to_numpy().flatten()\n",
    "    # scramble list\n",
    "    np.random.shuffle(flat_list)\n",
    "    # reconstruct dataframe\n",
    "    n=len(df.axes[0]) # no. rows\n",
    "    m=len(df.axes[1]) # no. columns\n",
    "\n",
    "    scrambled_df = pd.DataFrame(flat_list.reshape(n,m),\n",
    "                    columns = df.keys())\n",
    "    \n",
    "    return scrambled_df"
   ]
  },
  {
   "cell_type": "code",
   "execution_count": 87,
   "metadata": {},
   "outputs": [],
   "source": [
    "# open and convert the file to a Dataframe\n",
    "# always run from pka_stuff directory\n",
    "filepath = './ms_data/230403gtroub2expt_working.xlsx'\n",
    "full_data = pd.read_excel(filepath)"
   ]
  },
  {
   "cell_type": "code",
   "execution_count": 130,
   "metadata": {},
   "outputs": [
    {
     "name": "stdout",
     "output_type": "stream",
     "text": [
      "([0.31550455562083773, 0.5051192739773831, 0.34902668294780137], 'True')\n",
      "([0.6806487181585053, 0.5952260267658264, 0.5509561669849219], 'True')\n",
      "2\n"
     ]
    }
   ],
   "source": [
    "ms_subset = full_data.loc[:,\"WT_SD_1\":\"GTRKO_SD_4\"]\n",
    "\n",
    "def count_significant(tup):\n",
    "    return \"True\" in tup[1]\n",
    "n = len(ms_subset)\n",
    "fdr_x1000 = list()\n",
    "for i in range(0,1):\n",
    "    scrambled_df = scramble(ms_subset[127:129], seed = i)\n",
    "    \n",
    "    # T-test applied to all rows of data frame\n",
    "    results = scrambled_df.apply(perform_welchs_ttest, threshold = .05, axis = 1)\n",
    "\n",
    "    # Count false discovery rate\n",
    "    significant_count = results.apply(count_significant).sum()\n",
    "    fdr_x1000[i] = significant_count/n\n",
    "\n",
    "# np.mean(fdr_x1000)"
   ]
  },
  {
   "cell_type": "code",
   "execution_count": null,
   "metadata": {},
   "outputs": [],
   "source": []
  }
 ],
 "metadata": {
  "kernelspec": {
   "display_name": ".venv",
   "language": "python",
   "name": "python3"
  },
  "language_info": {
   "codemirror_mode": {
    "name": "ipython",
    "version": 3
   },
   "file_extension": ".py",
   "mimetype": "text/x-python",
   "name": "python",
   "nbconvert_exporter": "python",
   "pygments_lexer": "ipython3",
   "version": "3.11.6"
  },
  "orig_nbformat": 4
 },
 "nbformat": 4,
 "nbformat_minor": 2
}
